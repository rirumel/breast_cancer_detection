{
 "cells": [
  {
   "cell_type": "markdown",
   "metadata": {},
   "source": [
    "# Homework 1"
   ]
  },
  {
   "cell_type": "markdown",
   "metadata": {},
   "source": [
    "### Exercise 1 a-c:"
   ]
  },
  {
   "cell_type": "code",
   "execution_count": 2,
   "metadata": {},
   "outputs": [],
   "source": [
    "# import libraries\n",
    "import pandas as pd\n",
    "import numpy as np\n",
    "\n",
    "from matplotlib import pyplot as plt\n",
    "import itertools\n",
    "from sklearn.metrics import classification_report, confusion_matrix, accuracy_score"
   ]
  },
  {
   "cell_type": "code",
   "execution_count": 3,
   "metadata": {},
   "outputs": [],
   "source": [
    "# import data using pandas\n",
    "data = pd.read_csv(\"dataset.csv\")\n",
    "#bool_series = pd.isnull(data) \n",
    "#data[bool_series]\n",
    "#data.notnull()"
   ]
  },
  {
   "cell_type": "markdown",
   "metadata": {},
   "source": [
    "### Preprocessing"
   ]
  },
  {
   "cell_type": "code",
   "execution_count": 4,
   "metadata": {},
   "outputs": [],
   "source": [
    "# Splitting the data into the Training set and Test set\n",
    "from sklearn.model_selection import train_test_split\n",
    "\n",
    "#split dataset in features and target variable\n",
    "feature_cols = ['12.83', '22.33', '85.26', '503.2', '0.1088', '0.1799', '0.1695',\n",
    "       '0.06861', '0.2123', '0.07254', '0.3061', '1.069', '2.257', '25.13',\n",
    "       '0.006983', '0.03858', '0.04683', '0.01499', '0.0168', '0.005617',\n",
    "       '15.2', '30.15', '105.3', '706', '0.1777', '0.5343', '0.6282', '0.1977',\n",
    "       '0.3407', '0.1243']\n",
    "\n",
    "#features\n",
    "X = data[feature_cols]\n",
    "#label\n",
    "y = data['1']\n",
    "#y.head()\n",
    "#X.head()\n",
    "\n",
    "#Splitting training and test set\n",
    "X_train, X_test, y_train, y_test = train_test_split(X, y, test_size=0.25, random_state=101)\n",
    "\n",
    "\n",
    "\n"
   ]
  },
  {
   "cell_type": "code",
   "execution_count": 5,
   "metadata": {},
   "outputs": [],
   "source": [
    "# imputation\n",
    "from sklearn.impute import SimpleImputer\n",
    "\n"
   ]
  },
  {
   "cell_type": "code",
   "execution_count": 6,
   "metadata": {},
   "outputs": [],
   "source": [
    "# scaling\n",
    "from sklearn.preprocessing import StandardScaler\n",
    "\n"
   ]
  },
  {
   "cell_type": "markdown",
   "metadata": {},
   "source": [
    "### Classification"
   ]
  },
  {
   "cell_type": "code",
   "execution_count": 7,
   "metadata": {},
   "outputs": [],
   "source": [
    "# Use any two classifiers\n",
    "from sklearn.svm import LinearSVC\n",
    "from sklearn.tree import DecisionTreeClassifier\n",
    "from sklearn.linear_model import LogisticRegression\n",
    "from sklearn.neighbors import KNeighborsClassifier\n",
    "\n",
    "#-----------Decision Tree---------------\n",
    "# Create Decision Tree classifer object\n",
    "clf = DecisionTreeClassifier()\n",
    "\n",
    "# Train Decision Tree Classifer\n",
    "clf = clf.fit(X_train, y_train)\n",
    "\n",
    "#Predict the response for test dataset\n",
    "dtc_predicted = clf.predict(X_test)\n",
    "#------------The End---------------------\n",
    "\n",
    "\n",
    "\n"
   ]
  },
  {
   "cell_type": "code",
   "execution_count": 8,
   "metadata": {},
   "outputs": [
    {
     "name": "stdout",
     "output_type": "stream",
     "text": [
      "Confusion Matrix: [[75  4]\n",
      " [ 4 45]]\n"
     ]
    }
   ],
   "source": [
    "# print or plot  metrics / results\n",
    "from sklearn.metrics import classification_report, confusion_matrix, accuracy_score\n",
    "\n",
    "# Decision Tree Confusion Matrix on test set\n",
    "print(\"Confusion Matrix:\", confusion_matrix(y_test, dtc_predicted))\n",
    "\n",
    "\n",
    "\n"
   ]
  },
  {
   "cell_type": "code",
   "execution_count": 9,
   "metadata": {},
   "outputs": [
    {
     "name": "stdout",
     "output_type": "stream",
     "text": [
      "Accuracy: 0.9375\n"
     ]
    }
   ],
   "source": [
    "#Decision Tree Accuracy\n",
    "print(\"Accuracy:\", accuracy_score(y_test, dtc_predicted))"
   ]
  },
  {
   "cell_type": "code",
   "execution_count": 10,
   "metadata": {},
   "outputs": [
    {
     "name": "stdout",
     "output_type": "stream",
     "text": [
      "              precision    recall  f1-score   support\n",
      "\n",
      "           0       0.95      0.95      0.95        79\n",
      "           1       0.92      0.92      0.92        49\n",
      "\n",
      "   micro avg       0.94      0.94      0.94       128\n",
      "   macro avg       0.93      0.93      0.93       128\n",
      "weighted avg       0.94      0.94      0.94       128\n",
      "\n"
     ]
    }
   ],
   "source": [
    "#Decision Tree Precison and Recall\n",
    "\n",
    "print(classification_report(y_test, dtc_predicted))"
   ]
  },
  {
   "cell_type": "code",
   "execution_count": 12,
   "metadata": {},
   "outputs": [],
   "source": [
    "#-----------------K-Neighbors Classifier----------------\n",
    "\n",
    "model = KNeighborsClassifier(n_neighbors=5)\n",
    "\n",
    "# Train the model using the training sets\n",
    "model.fit(X_train,y_train)\n",
    "\n",
    "#Predict Output\n",
    "knc_predicted= model.predict(X_test)"
   ]
  },
  {
   "cell_type": "code",
   "execution_count": 13,
   "metadata": {},
   "outputs": [
    {
     "name": "stdout",
     "output_type": "stream",
     "text": [
      "Accuracy: 0.953125\n"
     ]
    }
   ],
   "source": [
    "#K-Neighbors Classifier Accuracy\n",
    "print(\"Accuracy:\", accuracy_score(y_test, knc_predicted))"
   ]
  },
  {
   "cell_type": "code",
   "execution_count": 14,
   "metadata": {},
   "outputs": [
    {
     "name": "stdout",
     "output_type": "stream",
     "text": [
      "Confusion Matrix: [[77  2]\n",
      " [ 4 45]]\n"
     ]
    }
   ],
   "source": [
    "#K-Neighbors Classifier  Confusion Matrix on test set\n",
    "print(\"Confusion Matrix:\", confusion_matrix(y_test, knc_predicted))"
   ]
  },
  {
   "cell_type": "code",
   "execution_count": 15,
   "metadata": {},
   "outputs": [
    {
     "name": "stdout",
     "output_type": "stream",
     "text": [
      "              precision    recall  f1-score   support\n",
      "\n",
      "           0       0.95      0.97      0.96        79\n",
      "           1       0.96      0.92      0.94        49\n",
      "\n",
      "   micro avg       0.95      0.95      0.95       128\n",
      "   macro avg       0.95      0.95      0.95       128\n",
      "weighted avg       0.95      0.95      0.95       128\n",
      "\n"
     ]
    }
   ],
   "source": [
    "#K-Neighbors Classifier Precison and Recall\n",
    "print(classification_report(y_test, knc_predicted))"
   ]
  },
  {
   "cell_type": "code",
   "execution_count": null,
   "metadata": {},
   "outputs": [],
   "source": [
    "# Conclusion: After looking into the measurement matrices like Accuracy, Precison and Recall of both of the models that\n",
    "# I have used in this solution (Decision Tree Classifier and K-Neighbors Classifier), it is clear that K-Neighbors Classifier\n",
    "# performed best in order to solve this problem."
   ]
  }
 ],
 "metadata": {
  "kernelspec": {
   "display_name": "Python 3",
   "language": "python",
   "name": "python3"
  },
  "language_info": {
   "codemirror_mode": {
    "name": "ipython",
    "version": 3
   },
   "file_extension": ".py",
   "mimetype": "text/x-python",
   "name": "python",
   "nbconvert_exporter": "python",
   "pygments_lexer": "ipython3",
   "version": "3.7.3"
  }
 },
 "nbformat": 4,
 "nbformat_minor": 2
}
